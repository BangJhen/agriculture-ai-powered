{
 "cells": [
  {
   "cell_type": "code",
   "execution_count": 21,
   "metadata": {},
   "outputs": [],
   "source": [
    "import fitz\n",
    "import os\n",
    "from sentence_transformers import SentenceTransformer\n",
    "from qdrant_client import QdrantClient\n",
    "from qdrant_client.http import models"
   ]
  },
  {
   "attachments": {},
   "cell_type": "markdown",
   "metadata": {},
   "source": [
    "# Extraction knowledge"
   ]
  },
  {
   "cell_type": "code",
   "execution_count": 15,
   "metadata": {},
   "outputs": [],
   "source": [
    "folder_path = \"E:/folder kuliah/Project/DATATHON/agriculture-ai-powered/Knowledge\"  # Ganti dengan path folder Anda\n",
    "pdf_pages_dict = {}\n",
    "\n",
    "for filename in os.listdir(folder_path):\n",
    "    if filename.endswith(\".pdf\"):\n",
    "        pdf_path = os.path.join(folder_path, filename)\n",
    "        doc = fitz.open(pdf_path)\n",
    "        pages_text = []\n",
    "        for page in doc:\n",
    "            text = page.get_text()\n",
    "            pages_text.append(text)\n",
    "        doc.close()\n",
    "        pdf_pages_dict[filename] = pages_text"
   ]
  },
  {
   "attachments": {},
   "cell_type": "markdown",
   "metadata": {},
   "source": [
    "# add to Qdrant "
   ]
  },
  {
   "cell_type": "code",
   "execution_count": 10,
   "metadata": {},
   "outputs": [],
   "source": [
    "def load_books(folder_path, namefile):\n",
    "    # Gabungkan folder path dan nama file\n",
    "    file_path = os.path.join(folder_path, namefile)\n",
    "    with open(file_path, 'r', encoding='utf-8') as file:\n",
    "        isi = file.read()\n",
    "    return isi"
   ]
  },
  {
   "cell_type": "code",
   "execution_count": 12,
   "metadata": {},
   "outputs": [],
   "source": [
    "# load books \n",
    "Soil = load_books(\"E:/folder kuliah/Project/DATATHON/agriculture-ai-powered/Knowledge\", \"Building-Soils-for-Better-Crops.txt\")\n",
    "nutrients = load_books(\"E:/folder kuliah/Project/DATATHON/agriculture-ai-powered/Knowledge\", \"NUTRIENT INTERACTIONS IN CROP PLANTS.txt\")\n",
    "weather = load_books(\"E:/folder kuliah/Project/DATATHON/agriculture-ai-powered/Knowledge\", \"Weather and Management Impact on Crop Yield Variability in Rotations.txt\")"
   ]
  },
  {
   "cell_type": "code",
   "execution_count": 20,
   "metadata": {},
   "outputs": [
    {
     "name": "stderr",
     "output_type": "stream",
     "text": [
      "Xet Storage is enabled for this repo, but the 'hf_xet' package is not installed. Falling back to regular HTTP download. For better performance, install the package with: `pip install huggingface_hub[hf_xet]` or `pip install hf_xet`\n",
      "C:\\Users\\Tpny\\AppData\\Local\\Temp\\ipykernel_16892\\3256267820.py:22: DeprecationWarning: `recreate_collection` method is deprecated and will be removed in the future. Use `collection_exists` to check collection existence and `create_collection` instead.\n",
      "  client.recreate_collection(\n"
     ]
    },
    {
     "name": "stdout",
     "output_type": "stream",
     "text": [
      "Semua data berhasil dimasukkan ke Qdrant.\n"
     ]
    }
   ],
   "source": [
    "# --- Membuat Embedding ---\n",
    "model = SentenceTransformer(\"all-MiniLM-L6-v2\")\n",
    "\n",
    "# Siapkan data untuk Qdrant\n",
    "all_texts = []\n",
    "all_payloads = []\n",
    "for pdf_name, pages in pdf_pages_dict.items():\n",
    "    for i, page_text in enumerate(pages):\n",
    "        all_texts.append(page_text)\n",
    "        all_payloads.append({\n",
    "            \"pdf_name\": pdf_name,\n",
    "            \"page_number\": i + 1,\n",
    "            \"text\": page_text\n",
    "        })\n",
    "\n",
    "embeddings = model.encode(all_texts)\n",
    "\n",
    "# --- Koneksi ke Qdrant dan Add Data ---\n",
    "client = QdrantClient(host=\"localhost\", port=6333)\n",
    "\n",
    "# Buat collection baru (hanya perlu sekali)\n",
    "client.recreate_collection(\n",
    "    collection_name=\"pdf_knowledge\",\n",
    "    vectors_config=models.VectorParams(\n",
    "        size=embeddings.shape[1],\n",
    "        distance=models.Distance.COSINE\n",
    "    ),\n",
    ")\n",
    "\n",
    "# Siapkan points untuk upsert\n",
    "points = [\n",
    "    models.PointStruct(\n",
    "        id=i,\n",
    "        vector=embeddings[i].tolist(),\n",
    "        payload=all_payloads[i]\n",
    "    )\n",
    "    for i in range(len(all_texts))\n",
    "]\n",
    "\n",
    "# Add ke Qdrant\n",
    "client.upsert(\n",
    "    collection_name=\"pdf_knowledge\",\n",
    "    points=points\n",
    ")\n",
    "\n",
    "print(\"Semua data berhasil dimasukkan ke Qdrant.\")\n"
   ]
  },
  {
   "cell_type": "code",
   "execution_count": null,
   "metadata": {},
   "outputs": [],
   "source": []
  }
 ],
 "metadata": {
  "kernelspec": {
   "display_name": "Python 3",
   "language": "python",
   "name": "python3"
  },
  "language_info": {
   "codemirror_mode": {
    "name": "ipython",
    "version": 3
   },
   "file_extension": ".py",
   "mimetype": "text/x-python",
   "name": "python",
   "nbconvert_exporter": "python",
   "pygments_lexer": "ipython3",
   "version": "3.10.7"
  },
  "orig_nbformat": 4
 },
 "nbformat": 4,
 "nbformat_minor": 2
}
