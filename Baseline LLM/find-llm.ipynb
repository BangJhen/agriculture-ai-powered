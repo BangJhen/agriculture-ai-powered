{
 "cells": [
  {
   "cell_type": "code",
   "execution_count": 14,
   "id": "8120f697",
   "metadata": {},
   "outputs": [],
   "source": [
    "from datasets import load_dataset\n",
    "import pandas as pd \n",
    "\n",
    "ds = load_dataset(\"KisanVaani/agriculture-qa-english-only\")\n",
    "df = pd.DataFrame(ds['train'])\n",
    "df = df.rename(columns={\"question\": \"query\", \"answer\": \"response\"})"
   ]
  },
  {
   "cell_type": "code",
   "execution_count": 15,
   "id": "370cb865",
   "metadata": {},
   "outputs": [
    {
     "data": {
      "application/vnd.microsoft.datawrangler.viewer.v0+json": {
       "columns": [
        {
         "name": "index",
         "rawType": "int64",
         "type": "integer"
        },
        {
         "name": "query",
         "rawType": "object",
         "type": "string"
        },
        {
         "name": "answers",
         "rawType": "object",
         "type": "string"
        }
       ],
       "ref": "de27968f-d84a-4ad7-853b-868c8a9743e3",
       "rows": [
        [
         "0",
         "why is crop rotation important in farming?",
         "This helps to prevent soil erosion and depletion, and can also help to control pests and diseases"
        ],
        [
         "1",
         "What farming practice helps prevent soil erosion?",
         "Crop Rotation"
        ],
        [
         "2",
         "what is crop rotation",
         "Crop rotation is the practice of growing a series of different crops in the same area over several seasons"
        ],
        [
         "3",
         "what are the different methods of irrigation?",
         "surface irrigation, drip irrigation, and sprinkler irrigation"
        ],
        [
         "4",
         "why is soil health vital?",
         "Soil health is critical to crop growth and productivity, as it provides the necessary nutrients and support for plants to thrive."
        ],
        [
         "5",
         "what are the causes of soil degradation?",
         "erosion, compaction, and nutrient depletion"
        ],
        [
         "6",
         "what is organic farming?",
         "method of crop production that emphasizes the use of natural and sustainable practices, such as crop rotation, composting, and biological pest control"
        ],
        [
         "7",
         "what is the importane of organic farming?",
         "This approach seeks to minimize the use of synthetic chemicals and promote the health of the soil and the environment"
        ],
        [
         "8",
         "Which crop is the major source of food in africa?",
         "Cassava "
        ],
        [
         "9",
         "what is the major cassava disease?",
         "Cassava Mosaic Disease (CMD)"
        ],
        [
         "10",
         "what are different cassava diseases?",
         "Cassava "
        ],
        [
         "11",
         "what are the signs and symptoms of CBB disease?",
         "The disease causes wilting, yellowing of the leaves, and rotting of the stems and roots"
        ],
        [
         "12",
         "what are the sustainable approaches to cassava disease management?",
         "breeding disease-resistant varieties and using natural pest control methods."
        ],
        [
         "13",
         "which diseases can be spread by whiteflies?",
         "The whiteflies can spread viruses such as CMD and CBSD, which can cause significant losses for farmers."
        ],
        [
         "14",
         "what is irrigation?",
         "Irrigation is the process of applying water to crops in order to help them grow"
        ],
        [
         "15",
         "what are organic fertilizers?",
         "organic fertilizers, which are made from natural materials such as manure and compost"
        ],
        [
         "16",
         "what are fertilizers?",
         "Fertilizers are substances that are added to soil to improve the growth and quality of crops"
        ],
        [
         "17",
         "why are fertilizers used in farming?",
         " to improve the growth and quality of crops"
        ],
        [
         "18",
         "what type of fertilizers are made from chemical?",
         "synthetic fertilizers"
        ],
        [
         "19",
         "what is pest management?",
         "Pest management is the practice of controlling pests and diseases that can damage crops"
        ],
        [
         "20",
         "what are the different methods of pest management?",
         "biological control, cultural control, and chemical contro"
        ],
        [
         "21",
         "in which way is climate change affecting agriculture?",
         "changes in temperature, rainfall, and weather patterns"
        ],
        [
         "22",
         "what are the effects of climate change",
         "decreased crop yields, increased pest and disease pressure, and other challenges for farmers."
        ],
        [
         "23",
         "what is crop protection?",
         " Crop protection refers to the various methods used to protect crops from pests, diseases, and other threats"
        ],
        [
         "24",
         "what kind of practices are used for crop protection?",
         " use of pesticides, fungicides, and other chemicals, as well as cultural practices"
        ],
        [
         "25",
         "give two cultural crop protection practices.",
         "crop rotation and intercropping."
        ],
        [
         "26",
         "what is GMO in full?",
         "Genetically Modified Crops"
        ],
        [
         "27",
         "define what GMO is?",
         "GMOs are crops that have been genetically modified to enhance their resistance to pests and diseases, as well as to improve their nutritional value and other characteristics"
        ],
        [
         "28",
         "what concerns have recently been raised about GMO's? ",
         "safety and potential environmental impacts"
        ],
        [
         "29",
         "how can i define precision agriculture?",
         " Precision agriculture is the use of technology to optimize crop production and reduce waste"
        ],
        [
         "30",
         "what kinds of tools are used in precision agriculture",
         "sensors, drones, and other tools"
        ],
        [
         "31",
         "what kind of information is collected by tools used in precision agriculture?",
         " soil moisture, nutrient levels, and other factors"
        ],
        [
         "32",
         "how can the information collected for precision agriculture used?",
         "make more informed decisions about planting and harvesting"
        ],
        [
         "33",
         "what is Integrated Pest Management?",
         "IPM is a holistic approach to pest management that emphasizes the use of multiple methods to control pests, including biological control, cultural control, and chemical control"
        ],
        [
         "34",
         "why is Integrated Pest Management used?",
         "to minimize the use of pesticides and other chemicals, while still effectively controlling pests and diseases."
        ],
        [
         "35",
         "what causes plant diseases?",
         "variety of pathogens, including fungi, bacteria, viruses, and nematodes"
        ],
        [
         "36",
         "how do we control plant diseases?",
         "use of pesticides and other measures to control."
        ],
        [
         "37",
         "How can I increase the yield of my potato crop?",
         "Potato yield can be increased by taking steps to improve soil fertility, such as using organic matter and maintaining proper soil pH"
        ],
        [
         "38",
         "What is the best way to store harvested wheat to prevent spoilage?",
         "Harvested wheat should be stored carefully to prevent spoilage and maintain quality"
        ],
        [
         "39",
         "What is the best time of year to plant soybeans in the Midwest?",
         " between late April and mid-May"
        ],
        [
         "40",
         "what is the most popular crop in midwest?",
         "Soybeans "
        ],
        [
         "41",
         "what is the percentage of moisture content before storage?",
         "13.5% or less"
        ],
        [
         "42",
         "How can I control the spread of fungal diseases in my tomato plants?",
         " ensure good airflow around the plants by spacing them properly and pruning them as needed. Additionally, using a fungicide can help control fungal growth. It's also important to avoid overhead watering, which can promote the spread of disease by splashing spores from one plant to another"
        ],
        [
         "43",
         "What is the recommended dosage of fertilizer for growing strawberries in sandy soil?",
         "Generally, a balanced fertilizer with an NPK ratio of 10-10-10 is recommended for sandy soil. However, the exact dosage may vary depending on the specific soil conditions and the age of the plants"
        ],
        [
         "44",
         "How can I prevent soil erosion on my farm?",
         "planting cover crops, using conservation tillage practices, and building contour terraces. It's also important to avoid overgrazing and to maintain vegetation along streams and other waterways to prevent bank erosion."
        ],
        [
         "45",
         "What are some common pests that attack apple trees and how can I control them?",
         "codling moths, apple maggots, and aphids. To control these pests, it's important to monitor the trees regularly and take action as soon as signs of infestation are observed"
        ],
        [
         "46",
         "what other methods can be used to control apple tree pests?",
         "using pheromone traps, applying insecticides, or using natural predators such as ladybugs"
        ],
        [
         "47",
         "How do I know when my corn is ready to harvest?",
         "Corn is typically ready to harvest when the kernels are firm and have reached their full size, and the ears have a mature appearance"
        ],
        [
         "48",
         "how do i check for corn maturity?",
         "test the kernel moisture content using a moisture meter. Additionally, the husks on the ears should have turned brown and dry"
        ],
        [
         "49",
         "What are some sustainable farming practices that can help reduce environmental impact?",
         "Sustainable farming practices can help"
        ]
       ],
       "shape": {
        "columns": 2,
        "rows": 22615
       }
      },
      "text/html": [
       "<div>\n",
       "<style scoped>\n",
       "    .dataframe tbody tr th:only-of-type {\n",
       "        vertical-align: middle;\n",
       "    }\n",
       "\n",
       "    .dataframe tbody tr th {\n",
       "        vertical-align: top;\n",
       "    }\n",
       "\n",
       "    .dataframe thead th {\n",
       "        text-align: right;\n",
       "    }\n",
       "</style>\n",
       "<table border=\"1\" class=\"dataframe\">\n",
       "  <thead>\n",
       "    <tr style=\"text-align: right;\">\n",
       "      <th></th>\n",
       "      <th>query</th>\n",
       "      <th>answers</th>\n",
       "    </tr>\n",
       "  </thead>\n",
       "  <tbody>\n",
       "    <tr>\n",
       "      <th>0</th>\n",
       "      <td>why is crop rotation important in farming?</td>\n",
       "      <td>This helps to prevent soil erosion and depleti...</td>\n",
       "    </tr>\n",
       "    <tr>\n",
       "      <th>1</th>\n",
       "      <td>What farming practice helps prevent soil erosion?</td>\n",
       "      <td>Crop Rotation</td>\n",
       "    </tr>\n",
       "    <tr>\n",
       "      <th>2</th>\n",
       "      <td>what is crop rotation</td>\n",
       "      <td>Crop rotation is the practice of growing a ser...</td>\n",
       "    </tr>\n",
       "    <tr>\n",
       "      <th>3</th>\n",
       "      <td>what are the different methods of irrigation?</td>\n",
       "      <td>surface irrigation, drip irrigation, and sprin...</td>\n",
       "    </tr>\n",
       "    <tr>\n",
       "      <th>4</th>\n",
       "      <td>why is soil health vital?</td>\n",
       "      <td>Soil health is critical to crop growth and pro...</td>\n",
       "    </tr>\n",
       "    <tr>\n",
       "      <th>...</th>\n",
       "      <td>...</td>\n",
       "      <td>...</td>\n",
       "    </tr>\n",
       "    <tr>\n",
       "      <th>22610</th>\n",
       "      <td>Does cassava mosaic affect the cassava stems?</td>\n",
       "      <td>Yes, it makes them small and not good for plan...</td>\n",
       "    </tr>\n",
       "    <tr>\n",
       "      <th>22611</th>\n",
       "      <td>How does the pathogen of Phoma Rot spread?</td>\n",
       "      <td>The pathogen of Phoma Rot is seed-borne.</td>\n",
       "    </tr>\n",
       "    <tr>\n",
       "      <th>22612</th>\n",
       "      <td>Does cassava have much sugar in it when testing?</td>\n",
       "      <td>Yes, but not as much as sugar cane</td>\n",
       "    </tr>\n",
       "    <tr>\n",
       "      <th>22613</th>\n",
       "      <td>Can the chemical used for storing affect seed ...</td>\n",
       "      <td>No, it does not affect germination</td>\n",
       "    </tr>\n",
       "    <tr>\n",
       "      <th>22614</th>\n",
       "      <td>Do we have a selective pesticide for rodents?</td>\n",
       "      <td>No</td>\n",
       "    </tr>\n",
       "  </tbody>\n",
       "</table>\n",
       "<p>22615 rows × 2 columns</p>\n",
       "</div>"
      ],
      "text/plain": [
       "                                                   query  \\\n",
       "0             why is crop rotation important in farming?   \n",
       "1      What farming practice helps prevent soil erosion?   \n",
       "2                                  what is crop rotation   \n",
       "3          what are the different methods of irrigation?   \n",
       "4                              why is soil health vital?   \n",
       "...                                                  ...   \n",
       "22610      Does cassava mosaic affect the cassava stems?   \n",
       "22611         How does the pathogen of Phoma Rot spread?   \n",
       "22612   Does cassava have much sugar in it when testing?   \n",
       "22613  Can the chemical used for storing affect seed ...   \n",
       "22614      Do we have a selective pesticide for rodents?   \n",
       "\n",
       "                                                 answers  \n",
       "0      This helps to prevent soil erosion and depleti...  \n",
       "1                                          Crop Rotation  \n",
       "2      Crop rotation is the practice of growing a ser...  \n",
       "3      surface irrigation, drip irrigation, and sprin...  \n",
       "4      Soil health is critical to crop growth and pro...  \n",
       "...                                                  ...  \n",
       "22610  Yes, it makes them small and not good for plan...  \n",
       "22611           The pathogen of Phoma Rot is seed-borne.  \n",
       "22612                 Yes, but not as much as sugar cane  \n",
       "22613                 No, it does not affect germination  \n",
       "22614                                                 No  \n",
       "\n",
       "[22615 rows x 2 columns]"
      ]
     },
     "execution_count": 15,
     "metadata": {},
     "output_type": "execute_result"
    }
   ],
   "source": [
    "df"
   ]
  }
 ],
 "metadata": {
  "kernelspec": {
   "display_name": "base",
   "language": "python",
   "name": "python3"
  },
  "language_info": {
   "name": "python",
   "version": "3.12.9"
  }
 },
 "nbformat": 4,
 "nbformat_minor": 5
}
